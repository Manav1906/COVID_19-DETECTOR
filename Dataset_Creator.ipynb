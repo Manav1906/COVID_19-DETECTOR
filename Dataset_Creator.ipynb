{
 "cells": [
  {
   "cell_type": "code",
   "execution_count": 67,
   "metadata": {},
   "outputs": [],
   "source": [
    "import pandas as pd\n",
    "import numpy as np\n",
    "import matplotlib.pyplot as plt\n",
    "import seaborn as sns\n",
    "import os  \n",
    "import shutil\n",
    "from shutil import copyfile\n",
    "%matplotlib inline"
   ]
  },
  {
   "cell_type": "code",
   "execution_count": 48,
   "metadata": {},
   "outputs": [],
   "source": [
    "# create the dataset for positive samples (github)\n",
    "\n",
    "FILE_PATH = \"chestxray/metadata.csv\"\n",
    "IMAGES_PATH = \"chestxray/images\"\n",
    "TARGET_DIR = \"Dataset/Covid\"\n",
    "df = pd.read_csv(FILE_PATH)\n",
    "#print(df.shape)\n",
    "#df.head()"
   ]
  },
  {
   "cell_type": "code",
   "execution_count": 56,
   "metadata": {},
   "outputs": [],
   "source": [
    "cnt = 0\n",
    "\n",
    "for (i,row) in df.iterrows():\n",
    "    if row[\"finding\"]==\"COVID-19\" and row[\"view\"]==\"PA\":\n",
    "        filename = row[\"filename\"]\n",
    "        image_path = os.path.join(IMAGES_PATH,filename)\n",
    "        image_copy_path = os.path.join(TARGET_DIR,filename)\n",
    "        shutil.copy2(image_path,image_copy_path)\n",
    "        #print(\"moving image\",cnt)\n",
    "        cnt += 1"
   ]
  },
  {
   "cell_type": "code",
   "execution_count": 52,
   "metadata": {},
   "outputs": [],
   "source": [
    "# create dataset for normal samples(kaggle)\n",
    "\n",
    "import random\n",
    "KAGGLE_FILE_PATH = \"chest_xray_kaggle/train/NORMAL\"\n",
    "TARGET_NORMAL_DIR = \"Dataset/Normal\""
   ]
  },
  {
   "cell_type": "code",
   "execution_count": 53,
   "metadata": {},
   "outputs": [],
   "source": [
    "image_names = os.listdir(KAGGLE_FILE_PATH)\n",
    "random.shuffle(image_names)"
   ]
  },
  {
   "cell_type": "code",
   "execution_count": 57,
   "metadata": {},
   "outputs": [],
   "source": [
    "for i in range (200):\n",
    "    \n",
    "    image_name = image_names[i]\n",
    "    image_path = os.path.join(KAGGLE_FILE_PATH,image_name)\n",
    "    \n",
    "    target_path = os.path.join(TARGET_NORMAL_DIR,image_name)\n",
    "    shutil.copy2(image_path,target_path)\n",
    "    \n",
    "    #print (\"copying image \",i)"
   ]
  },
  {
   "cell_type": "code",
   "execution_count": 73,
   "metadata": {},
   "outputs": [],
   "source": [
    "os.mkdir('CovidDataset');\n",
    "os.mkdir('CovidDataset/Train');\n",
    "os.mkdir('CovidDataset/Test');\n",
    "os.mkdir('CovidDataset/Train/Covid');\n",
    "os.mkdir('CovidDataset/Train/Normal');\n",
    "os.mkdir('CovidDataset/Test/Covid');\n",
    "os.mkdir('CovidDataset/Test/Normal');"
   ]
  },
  {
   "cell_type": "code",
   "execution_count": 74,
   "metadata": {},
   "outputs": [],
   "source": [
    "# spliting the data setfor training and testing.\n",
    "\n",
    "def split_data(SOURCE, TRAINING, TESTING, SPLIT_SIZE):\n",
    "    listing=os.listdir(SOURCE);\n",
    "    random.sample(listing,len(listing));\n",
    "    list2=listing[0:int(len(listing)-SPLIT_SIZE*len(listing))];\n",
    "    list3=list(set(listing)-set(list2));\n",
    "    c=0;\n",
    "    for i in list2:\n",
    "        if(os.path.getsize(SOURCE+i)>0):\n",
    "            copyfile(SOURCE+i,TRAINING+i);\n",
    "    for i in list3:\n",
    "        if(os.path.getsize(SOURCE+i)>0):\n",
    "            copyfile(SOURCE+i,TESTING+i);\n",
    "\n",
    "Covid_SOURCE_DIR = 'Dataset/Covid/'\n",
    "TRAINING_Covid_DIR = 'CovidDataset/Train/Covid/'\n",
    "TESTING_Covid_DIR = 'CovidDataset/Test/Covid/'\n",
    "Normal_SOURCE_DIR = 'Dataset/Normal/'\n",
    "TRAINING_Normal_DIR = 'CovidDataset/Train/Normal/'\n",
    "TESTING_Normal_DIR = 'CovidDataset/Test/Normal/'\n",
    "split_size = .25\n",
    "split_data(Covid_SOURCE_DIR, TRAINING_Covid_DIR, TESTING_Covid_DIR, split_size)\n",
    "split_data(Normal_SOURCE_DIR, TRAINING_Normal_DIR, TESTING_Normal_DIR, split_size)"
   ]
  },
  {
   "cell_type": "code",
   "execution_count": 75,
   "metadata": {},
   "outputs": [
    {
     "name": "stdout",
     "output_type": "stream",
     "text": [
      "150\n",
      "50\n"
     ]
    }
   ],
   "source": [
    "print(len(os.listdir('CovidDataset/Train/Normal')))\n",
    "print(len(os.listdir('CovidDataset/Test/Normal')))"
   ]
  },
  {
   "cell_type": "code",
   "execution_count": null,
   "metadata": {},
   "outputs": [],
   "source": []
  }
 ],
 "metadata": {
  "kernelspec": {
   "display_name": "Python 3",
   "language": "python",
   "name": "python3"
  },
  "language_info": {
   "codemirror_mode": {
    "name": "ipython",
    "version": 3
   },
   "file_extension": ".py",
   "mimetype": "text/x-python",
   "name": "python",
   "nbconvert_exporter": "python",
   "pygments_lexer": "ipython3",
   "version": "3.7.6"
  }
 },
 "nbformat": 4,
 "nbformat_minor": 4
}
